{
 "cells": [
  {
   "cell_type": "code",
   "execution_count": null,
   "id": "5537fb16",
   "metadata": {},
   "outputs": [],
   "source": [
    "# !pip3 install scikit-learn pandas xgboost --no-cache"
   ]
  },
  {
   "cell_type": "code",
   "execution_count": 1,
   "id": "f4c0e05c",
   "metadata": {},
   "outputs": [],
   "source": [
    "import pandas as pd"
   ]
  },
  {
   "cell_type": "markdown",
   "id": "c1fbf3a3",
   "metadata": {},
   "source": [
    "### Read and process data"
   ]
  },
  {
   "cell_type": "code",
   "execution_count": 58,
   "id": "37b7b7e7",
   "metadata": {},
   "outputs": [],
   "source": [
    "data = pd.read_csv(\"./Total_Listings.csv\", index_col=False)\n",
    "data = pd.read_csv(\"./Total_Listings_lag.csv\", index_col=False)"
   ]
  },
  {
   "cell_type": "code",
   "execution_count": 59,
   "id": "709487fb",
   "metadata": {},
   "outputs": [
    {
     "data": {
      "text/plain": [
       "Index(['Unnamed: 0', 'ID', 'Price', 'lnPrice', 'latitude', 'longitude',\n",
       "       'neighbourhood_cleansed', 'accommodates', 'bathrooms', 'bedrooms',\n",
       "       'amenities_num', 'number_of_reviews_l30d', 'review_scores_location',\n",
       "       'review_scores_value', 'availability_60', 'instant_bookable',\n",
       "       'host_is_superhost', 'host_identity_verified',\n",
       "       'calculated_host_listings_count', 'restaurant_1km', 'mall_dist',\n",
       "       'convenience_500m', 'bus_stop_500m', 'subway_entrance_dist',\n",
       "       'railway_station_dist', 'attraction_dist', 'museum_dist',\n",
       "       'theatre_dist', 'w_lnPrice', 'w_accommodates', 'w_bathrooms',\n",
       "       'w_bedrooms', 'w_amenities_num', 'w_number_of_reviews_l30d',\n",
       "       'w_review_scores_location', 'w_review_scores_value',\n",
       "       'w_availability_60', 'w_instant_bookable', 'w_host_is_superhost',\n",
       "       'w_host_identity_verified', 'w_calculated_host_listings_count'],\n",
       "      dtype='object')"
      ]
     },
     "execution_count": 59,
     "metadata": {},
     "output_type": "execute_result"
    }
   ],
   "source": [
    "data.columns"
   ]
  },
  {
   "cell_type": "code",
   "execution_count": 60,
   "id": "1c79d157",
   "metadata": {},
   "outputs": [],
   "source": [
    "data_with_neighbor = data.drop(columns=[\"Unnamed: 0\", \"ID\", \"Price\", \"latitude\", \"longitude\"])\n",
    "\n",
    "data_wo_neighbor = data.drop(columns=[\"Unnamed: 0\", \"ID\", \"Price\", \"neighbourhood_cleansed\",\n",
    "                                     \"latitude\", \"longitude\"])"
   ]
  },
  {
   "cell_type": "code",
   "execution_count": null,
   "id": "21812449",
   "metadata": {},
   "outputs": [],
   "source": [
    "# from pandas import get_dummies\n",
    "# data_with_neighbor = get_dummies(data_with_neighbor, columns=['neighbourhood_cleansed'], drop_first=True, dtype=int)\n",
    "# data_with_neighbor"
   ]
  },
  {
   "cell_type": "markdown",
   "id": "b590e198",
   "metadata": {},
   "source": [
    "### Spatial CV setup"
   ]
  },
  {
   "cell_type": "code",
   "execution_count": 61,
   "id": "39cdb5c5",
   "metadata": {},
   "outputs": [],
   "source": [
    "from sklearn.model_selection import GroupKFold\n",
    "from sklearn.model_selection import cross_validate\n",
    "\n",
    "groups = GroupKFold(n_splits=10)\n",
    "kfolds = groups.split(data_with_neighbor, groups=data_with_neighbor[\"neighbourhood_cleansed\"].to_numpy())"
   ]
  },
  {
   "cell_type": "code",
   "execution_count": 62,
   "id": "0ae7fae1",
   "metadata": {},
   "outputs": [],
   "source": [
    "train_idx, val_idx = [list(trainVal) for trainVal in zip(*kfolds)]"
   ]
  },
  {
   "cell_type": "code",
   "execution_count": 63,
   "id": "b46ebaaa",
   "metadata": {},
   "outputs": [],
   "source": [
    "cv_partition = [*zip(train_idx, val_idx)]"
   ]
  },
  {
   "cell_type": "code",
   "execution_count": 64,
   "id": "ec00388b",
   "metadata": {},
   "outputs": [],
   "source": [
    "def print_results(results: dict):\n",
    "    for key in results.keys():\n",
    "        if key.startswith(\"test_\"):\n",
    "            print(\"{}: {:.5f}\".format(key, results[key].mean()))"
   ]
  },
  {
   "cell_type": "markdown",
   "id": "40fb56f6",
   "metadata": {},
   "source": [
    "### ML with sklearn"
   ]
  },
  {
   "cell_type": "code",
   "execution_count": 65,
   "id": "63fa0953",
   "metadata": {},
   "outputs": [],
   "source": [
    "from sklearn.linear_model import Lasso\n",
    "from sklearn.tree import DecisionTreeRegressor\n",
    "from sklearn.ensemble import RandomForestRegressor, BaggingRegressor"
   ]
  },
  {
   "cell_type": "markdown",
   "id": "edd45487",
   "metadata": {},
   "source": [
    "#### Lasso"
   ]
  },
  {
   "cell_type": "code",
   "execution_count": 66,
   "id": "ab9946e4",
   "metadata": {},
   "outputs": [],
   "source": [
    "lasso = Lasso(random_state=17, alpha=5e-5)"
   ]
  },
  {
   "cell_type": "code",
   "execution_count": 67,
   "id": "9c7648f3",
   "metadata": {},
   "outputs": [
    {
     "name": "stdout",
     "output_type": "stream",
     "text": [
      "test_neg_mean_absolute_error: -0.28501\n",
      "test_neg_mean_squared_error: -0.14170\n",
      "test_neg_root_mean_squared_error: -0.37621\n",
      "test_r2: 0.58928\n"
     ]
    }
   ],
   "source": [
    "lasso_res_cv = cross_validate(lasso, \n",
    "                           data_wo_neighbor.loc[:, data_wo_neighbor.columns != 'lnPrice'],\\\n",
    "                           y=data_wo_neighbor[\"lnPrice\"],\\\n",
    "                           scoring=('neg_mean_absolute_error', 'neg_mean_squared_error', 'neg_root_mean_squared_error', 'r2'),\\\n",
    "                           cv=10, n_jobs=-1)\n",
    "\n",
    "print_results(lasso_res_cv)"
   ]
  },
  {
   "cell_type": "code",
   "execution_count": 68,
   "id": "0d30374a",
   "metadata": {},
   "outputs": [
    {
     "name": "stdout",
     "output_type": "stream",
     "text": [
      "test_neg_mean_absolute_error: -0.28534\n",
      "test_neg_mean_squared_error: -0.14207\n",
      "test_neg_root_mean_squared_error: -0.37636\n",
      "test_r2: 0.53971\n"
     ]
    }
   ],
   "source": [
    "lasso_res = cross_validate(lasso, \n",
    "                           data_wo_neighbor.loc[:, data_wo_neighbor.columns != 'lnPrice'],\\\n",
    "                           y=data_wo_neighbor[\"lnPrice\"],\\\n",
    "                           scoring=('neg_mean_absolute_error', 'neg_mean_squared_error', 'neg_root_mean_squared_error', 'r2'),\\\n",
    "                           cv=cv_partition, n_jobs=-1)\n",
    "\n",
    "print_results(lasso_res) "
   ]
  },
  {
   "cell_type": "markdown",
   "id": "dd84e771",
   "metadata": {},
   "source": [
    "#### Decision Tree"
   ]
  },
  {
   "cell_type": "code",
   "execution_count": 73,
   "id": "a4d1e47c",
   "metadata": {},
   "outputs": [],
   "source": [
    "decision_tree = DecisionTreeRegressor(random_state=17,\n",
    "#                                       min_samples_split=20, \n",
    "#                                       max_depth=7,\n",
    "#                                      max_features=0.8,\n",
    "                                     ccp_alpha=0.00017)"
   ]
  },
  {
   "cell_type": "code",
   "execution_count": 74,
   "id": "dae7c7c3",
   "metadata": {},
   "outputs": [
    {
     "name": "stdout",
     "output_type": "stream",
     "text": [
      "test_neg_mean_absolute_error: -0.30305\n",
      "test_neg_mean_squared_error: -0.15877\n",
      "test_neg_root_mean_squared_error: -0.39836\n",
      "test_r2: 0.53936\n"
     ]
    }
   ],
   "source": [
    "decision_tree_res_cv = cross_validate(decision_tree, data_wo_neighbor.loc[:, data_wo_neighbor.columns != 'lnPrice'],\\\n",
    "               y=data_wo_neighbor[\"lnPrice\"],\\\n",
    "               scoring=('neg_mean_absolute_error', 'neg_mean_squared_error', 'neg_root_mean_squared_error', 'r2'),\\\n",
    "              cv=10, n_jobs=-1)\n",
    "\n",
    "print_results(decision_tree_res_cv)"
   ]
  },
  {
   "cell_type": "code",
   "execution_count": 75,
   "id": "f5c2bcaa",
   "metadata": {},
   "outputs": [
    {
     "name": "stdout",
     "output_type": "stream",
     "text": [
      "test_neg_mean_absolute_error: -0.30801\n",
      "test_neg_mean_squared_error: -0.16389\n",
      "test_neg_root_mean_squared_error: -0.40411\n",
      "test_r2: 0.46961\n"
     ]
    }
   ],
   "source": [
    "decision_tree_res = cross_validate(decision_tree, data_wo_neighbor.loc[:, data_wo_neighbor.columns != 'lnPrice'],\\\n",
    "               y=data_wo_neighbor[\"lnPrice\"],\\\n",
    "               scoring=('neg_mean_absolute_error', 'neg_mean_squared_error', 'neg_root_mean_squared_error', 'r2'),\\\n",
    "              cv=cv_partition, n_jobs=-1)\n",
    "\n",
    "print_results(decision_tree_res)"
   ]
  },
  {
   "cell_type": "markdown",
   "id": "7e185561",
   "metadata": {},
   "source": [
    "#### Bagging"
   ]
  },
  {
   "cell_type": "code",
   "execution_count": 76,
   "id": "a607f8d4",
   "metadata": {},
   "outputs": [],
   "source": [
    "bagging = BaggingRegressor(random_state=17, n_jobs=-1, n_estimators=100, max_samples=0.7)"
   ]
  },
  {
   "cell_type": "code",
   "execution_count": 77,
   "id": "ecef37c6",
   "metadata": {},
   "outputs": [
    {
     "name": "stdout",
     "output_type": "stream",
     "text": [
      "test_neg_mean_absolute_error: -0.26846\n",
      "test_neg_mean_squared_error: -0.12704\n",
      "test_neg_root_mean_squared_error: -0.35630\n",
      "test_r2: 0.63150\n"
     ]
    }
   ],
   "source": [
    "bagging_res_cv = cross_validate(bagging, data_wo_neighbor.loc[:, data_wo_neighbor.columns != 'lnPrice'],\\\n",
    "               y=data_wo_neighbor[\"lnPrice\"],\n",
    "               scoring=('neg_mean_absolute_error', 'neg_mean_squared_error', 'neg_root_mean_squared_error', 'r2'),\\\n",
    "              cv=10, n_jobs=-1)\n",
    "\n",
    "print_results(bagging_res_cv)"
   ]
  },
  {
   "cell_type": "code",
   "execution_count": 78,
   "id": "d3a57440",
   "metadata": {},
   "outputs": [
    {
     "name": "stdout",
     "output_type": "stream",
     "text": [
      "test_neg_mean_absolute_error: -0.27845\n",
      "test_neg_mean_squared_error: -0.13496\n",
      "test_neg_root_mean_squared_error: -0.36702\n",
      "test_r2: 0.56131\n"
     ]
    }
   ],
   "source": [
    "bagging_res = cross_validate(bagging, data_wo_neighbor.loc[:, data_wo_neighbor.columns != 'lnPrice'],\\\n",
    "               y=data_wo_neighbor[\"lnPrice\"],\n",
    "               scoring=('neg_mean_absolute_error', 'neg_mean_squared_error', 'neg_root_mean_squared_error', 'r2'),\\\n",
    "              cv=cv_partition, n_jobs=-1)\n",
    "\n",
    "print_results(bagging_res) # 0.56131"
   ]
  },
  {
   "cell_type": "markdown",
   "id": "0bd8286f",
   "metadata": {},
   "source": [
    "#### Random Forest"
   ]
  },
  {
   "cell_type": "code",
   "execution_count": 79,
   "id": "b9358998",
   "metadata": {},
   "outputs": [],
   "source": [
    "randon_forest = RandomForestRegressor(random_state=17, \n",
    "                                      max_features=6, \n",
    "                                      n_estimators=1000,\n",
    "                                      min_samples_split=11) "
   ]
  },
  {
   "cell_type": "code",
   "execution_count": 80,
   "id": "f237d0bc",
   "metadata": {},
   "outputs": [
    {
     "name": "stdout",
     "output_type": "stream",
     "text": [
      "test_neg_mean_absolute_error: -0.26828\n",
      "test_neg_mean_squared_error: -0.12712\n",
      "test_neg_root_mean_squared_error: -0.35640\n",
      "test_r2: 0.63141\n"
     ]
    }
   ],
   "source": [
    "randon_forest_res_cv = cross_validate(randon_forest, data_wo_neighbor.loc[:, data_wo_neighbor.columns != 'lnPrice'],\\\n",
    "               y=data_wo_neighbor[\"lnPrice\"],\\\n",
    "               scoring=('neg_mean_absolute_error', 'neg_mean_squared_error', 'neg_root_mean_squared_error', 'r2'),\\\n",
    "               cv=10, n_jobs=-1)\n",
    "print_results(randon_forest_res_cv)"
   ]
  },
  {
   "cell_type": "code",
   "execution_count": 81,
   "id": "6cb7570a",
   "metadata": {},
   "outputs": [
    {
     "name": "stdout",
     "output_type": "stream",
     "text": [
      "test_neg_mean_absolute_error: -0.27787\n",
      "test_neg_mean_squared_error: -0.13497\n",
      "test_neg_root_mean_squared_error: -0.36697\n",
      "test_r2: 0.56196\n"
     ]
    }
   ],
   "source": [
    "randon_forest_res = cross_validate(randon_forest, data_wo_neighbor.loc[:, data_wo_neighbor.columns != 'lnPrice'],\\\n",
    "               y=data_wo_neighbor[\"lnPrice\"],\\\n",
    "               scoring=('neg_mean_absolute_error', 'neg_mean_squared_error', 'neg_root_mean_squared_error', 'r2'),\\\n",
    "               cv=cv_partition, n_jobs=-1)\n",
    "\n",
    "print_results(randon_forest_res)  # 0.569830"
   ]
  },
  {
   "cell_type": "markdown",
   "id": "9aebb28a",
   "metadata": {},
   "source": [
    "### XGBoost"
   ]
  },
  {
   "cell_type": "code",
   "execution_count": 69,
   "id": "9ad1f7c9",
   "metadata": {},
   "outputs": [],
   "source": [
    "from xgboost import XGBRegressor"
   ]
  },
  {
   "cell_type": "code",
   "execution_count": 70,
   "id": "08f365bb",
   "metadata": {},
   "outputs": [],
   "source": [
    "xgb = XGBRegressor(n_estimators=400, random_state=17, grow_policy='lossguide',\n",
    "                   learning_rate=0.05, tree_method='hist', max_bin=90, gamma=0.02, \n",
    "                   colsample_bytree = 0.5)"
   ]
  },
  {
   "cell_type": "code",
   "execution_count": 71,
   "id": "47e1e99e",
   "metadata": {},
   "outputs": [
    {
     "name": "stdout",
     "output_type": "stream",
     "text": [
      "test_neg_mean_absolute_error: -0.25589\n",
      "test_neg_mean_squared_error: -0.11500\n",
      "test_neg_root_mean_squared_error: -0.33903\n",
      "test_r2: 0.66622\n"
     ]
    }
   ],
   "source": [
    "xgb_res_cv = cross_validate(xgb, data_wo_neighbor.loc[:, data_wo_neighbor.columns != 'lnPrice'],\\\n",
    "               y=data_wo_neighbor[\"lnPrice\"],\\\n",
    "               scoring=('neg_mean_absolute_error', 'neg_mean_squared_error', 'neg_root_mean_squared_error', 'r2'),\\\n",
    "              cv=10, n_jobs=-1)\n",
    "\n",
    "print_results(xgb_res_cv)"
   ]
  },
  {
   "cell_type": "code",
   "execution_count": 72,
   "id": "a6e19dc5",
   "metadata": {},
   "outputs": [
    {
     "name": "stdout",
     "output_type": "stream",
     "text": [
      "test_neg_mean_absolute_error: -0.26220\n",
      "test_neg_mean_squared_error: -0.11969\n",
      "test_neg_root_mean_squared_error: -0.34576\n",
      "test_r2: 0.60960\n"
     ]
    }
   ],
   "source": [
    "xgb_res = cross_validate(xgb, data_wo_neighbor.loc[:, data_wo_neighbor.columns != 'lnPrice'],\\\n",
    "               y=data_wo_neighbor[\"lnPrice\"],\\\n",
    "               scoring=('neg_mean_absolute_error', 'neg_mean_squared_error', 'neg_root_mean_squared_error', 'r2'),\\\n",
    "              cv=cv_partition, n_jobs=-1)\n",
    "\n",
    "print_results(xgb_res) # 0.609136"
   ]
  }
 ],
 "metadata": {
  "kernelspec": {
   "display_name": "Python 3 (ipykernel)",
   "language": "python",
   "name": "python3"
  },
  "language_info": {
   "codemirror_mode": {
    "name": "ipython",
    "version": 3
   },
   "file_extension": ".py",
   "mimetype": "text/x-python",
   "name": "python",
   "nbconvert_exporter": "python",
   "pygments_lexer": "ipython3",
   "version": "3.9.2"
  }
 },
 "nbformat": 4,
 "nbformat_minor": 5
}
